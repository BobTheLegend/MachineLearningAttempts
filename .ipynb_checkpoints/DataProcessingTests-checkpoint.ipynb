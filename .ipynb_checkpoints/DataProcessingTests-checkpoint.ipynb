{
 "cells": [
  {
   "cell_type": "code",
   "execution_count": 4,
   "metadata": {},
   "outputs": [],
   "source": [
    "import os\n",
    "import matplotlib.pyplot as plt\n",
    "import numpy as np\n",
    "import csv\n",
    "from matplotlib.animation import FuncAnimation\n",
    "from celluloid import Camera"
   ]
  },
  {
   "cell_type": "code",
   "execution_count": 62,
   "metadata": {},
   "outputs": [],
   "source": [
    "NO_ANSWER = 9999\n",
    "TRAIN_DATA_LOC = \"C:\\\\Users\\\\17Z990\\\\Downloads\\\\Repos\\\\MachineLearningAttempts\\\\TrainingData\\\\mnist_train.csv\"\n",
    "TEST_DATA_LOC = \"C:\\\\Users\\\\17Z990\\\\Downloads\\\\Repos\\\\MachineLearningAttempts\\\\TrainingData\\\\mnist_test.csv\"\n",
    "LAYERS = [784,16,10]"
   ]
  },
  {
   "cell_type": "code",
   "execution_count": 39,
   "metadata": {},
   "outputs": [],
   "source": [
    "class NeuralNet(object):\n",
    "    def __init__(self,layers):\n",
    "        self.numLayers = len(layers)\n",
    "        #Creates 1 bias for every neuron in the layers after input\n",
    "        self.biases = [np.random.randn(b,1) for b in layers[1:]]\n",
    "        #Creates weights for every other weight connected to it\n",
    "        self.weights = [np.random.randn(y,x) for x,y in zip(layers[:-1],layers[1:])]"
   ]
  },
  {
   "cell_type": "code",
   "execution_count": 7,
   "metadata": {},
   "outputs": [],
   "source": [
    "def getData(dataLocation):\n",
    "    file = open(dataLocation,'r')\n",
    "    dataReader = csv.reader(file)\n",
    "    data = []\n",
    "    for row in dataReader:\n",
    "        data.append(row)\n",
    "    return data"
   ]
  },
  {
   "cell_type": "code",
   "execution_count": 8,
   "metadata": {},
   "outputs": [],
   "source": [
    "#Takes a list/array which is 785 or 784 ints long depending on whether an answer is present\n",
    "#Takes a boolean stating whether answers are present are at the beginning (assumes true)\n",
    "def showData(numArray, answerPresent=True):\n",
    "    if type(numArray) != list and type(numArray) != np.ndarray:\n",
    "        raise ValueError(\"The numArray parameter is the wrong value. Try again with either a list or array\")\n",
    "    if type(answerPresent) != bool:\n",
    "        raise ValueError(\"The answerPresent parameter is the wrong value. Try again with a boolean\")\n",
    "    if answerPresent:\n",
    "        if len(numArray) != 785:\n",
    "            raise IndexError(\"Your array is bigger than allowed. Try checking the answerPresent parameter\")\n",
    "    if not answerPresent:\n",
    "        if len(numArray) != 784:\n",
    "            raise IndexError(\"Your array is bigger than allowed. Try checking the answerPresent parameter\")\n",
    "    \n",
    "    if answerPresent:\n",
    "        ans = numArray[0]\n",
    "        imgArray = numArray[1:]\n",
    "    else:\n",
    "        imgArray = numArray\n",
    "        ans = NO_ANSWER\n",
    "        \n",
    "    for i in range(len(imgArray)):\n",
    "        imgArray[i] = float(imgArray[i])\n",
    "        showArray = np.array(imgArray).reshape(28,28)\n",
    "    plt.imshow(showArray,'gray')\n",
    "    plt.show()\n",
    "    return ans"
   ]
  },
  {
   "cell_type": "code",
   "execution_count": 9,
   "metadata": {},
   "outputs": [],
   "source": [
    "def genRandData():\n",
    "    randData = np.random.choice(256,784) #Makes a random array with a length of 784 with numbers between 0 and 255\n",
    "    randData = np.concatenate(([NO_ANSWER],randData))\n",
    "    return randData"
   ]
  },
  {
   "cell_type": "code",
   "execution_count": 11,
   "metadata": {},
   "outputs": [],
   "source": [
    "def costFunc(netAns,targetAns):\n",
    "    x = np.subtract(targetAns,netAns)\n",
    "    topArray = np.square(x)\n",
    "    cost = np.divide(topArray,2)\n",
    "    return cost"
   ]
  },
  {
   "cell_type": "code",
   "execution_count": 8,
   "metadata": {},
   "outputs": [],
   "source": [
    "trainData = getData(TRAIN_DATA_LOC)"
   ]
  },
  {
   "cell_type": "code",
   "execution_count": 63,
   "metadata": {},
   "outputs": [],
   "source": [
    "net = NeuralNet(LAYERS)"
   ]
  }
 ],
 "metadata": {
  "kernelspec": {
   "display_name": "Python 3",
   "language": "python",
   "name": "python3"
  },
  "language_info": {
   "codemirror_mode": {
    "name": "ipython",
    "version": 3
   },
   "file_extension": ".py",
   "mimetype": "text/x-python",
   "name": "python",
   "nbconvert_exporter": "python",
   "pygments_lexer": "ipython3",
   "version": "3.7.4"
  }
 },
 "nbformat": 4,
 "nbformat_minor": 2
}
