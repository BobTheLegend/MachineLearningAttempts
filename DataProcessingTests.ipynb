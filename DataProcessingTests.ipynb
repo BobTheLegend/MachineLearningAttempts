{
 "cells": [
  {
   "cell_type": "code",
   "execution_count": 1,
   "metadata": {},
   "outputs": [],
   "source": [
    "import os\n",
    "import matplotlib.pyplot as plt\n",
    "import numpy as np\n",
    "import csv"
   ]
  },
  {
   "cell_type": "code",
   "execution_count": 2,
   "metadata": {},
   "outputs": [],
   "source": [
    "NO_ANSWER = 9999\n",
    "TRAIN_DATA_LOC = \"C:\\\\Users\\\\17Z990\\\\Downloads\\\\Repos\\\\MachineLearningAttempts\\\\TrainingData\\\\mnist_train.csv\"\n",
    "TEST_DATA_LOC = \"C:\\\\Users\\\\17Z990\\\\Downloads\\\\Repos\\\\MachineLearningAttempts\\\\TrainingData\\\\mnist_test.csv\""
   ]
  },
  {
   "cell_type": "code",
   "execution_count": 9,
   "metadata": {},
   "outputs": [],
   "source": [
    "def getData(dataLocation):\n",
    "    file = open(dataLocation,'r')\n",
    "    dataReader = csv.reader(file)\n",
    "    data = []\n",
    "    for row in dataReader:\n",
    "        data.append(row)\n",
    "    return data"
   ]
  },
  {
   "cell_type": "code",
   "execution_count": 30,
   "metadata": {},
   "outputs": [],
   "source": [
    "#Takes a list/array which is 785 or 784 ints long depending on whether an answer is present\n",
    "#Takes a boolean stating whether answers are present are at the beginning (assumes true)\n",
    "def showData(numArray, answerPresent=True):\n",
    "    if type(numArray) != list and type(numArray) != np.ndarray:\n",
    "        raise ValueError(\"The numArray parameter is the wrong value. Try again with either a list or array\")\n",
    "    if type(answerPresent) != bool:\n",
    "        raise ValueError(\"The answerPresent parameter is the wrong value. Try again with a boolean\")\n",
    "    if answerPresent:\n",
    "        if len(numArray) != 785:\n",
    "            raise IndexError(\"Your array is bigger than allowed. Try checking the answerPresent parameter\")\n",
    "    if not answerPresent:\n",
    "        if len(numArray) != 784:\n",
    "            raise IndexError(\"Your array is bigger than allowed. Try checking the answerPresent parameter\")\n",
    "    \n",
    "    if answerPresent:\n",
    "        ans = numArray[0]\n",
    "        imgArray = numArray[1:]\n",
    "    else:\n",
    "        imgArray = numArray\n",
    "        ans = NO_ANSWER\n",
    "        \n",
    "    for i in range(len(imgArray)):\n",
    "        imgArray[i] = float(imgArray[i])\n",
    "        showArray = np.array(imgArray).reshape(28,28)\n",
    "    plt.imshow(showArray,'gray')\n",
    "    plt.show()\n",
    "    return ans"
   ]
  },
  {
   "cell_type": "code",
   "execution_count": 5,
   "metadata": {},
   "outputs": [],
   "source": [
    "def genRandData():\n",
    "    randData = np.random.choice(256,784) #Makes a random array with a length of 784 with numbers between 0 and 255\n",
    "    randData = np.concatenate(([NO_ANSWER],randData))\n",
    "    return randData"
   ]
  },
  {
   "cell_type": "code",
   "execution_count": 6,
   "metadata": {},
   "outputs": [],
   "source": [
    "def createNet(numIn,numFirst,numSecond,numAns):\n",
    "    net = np.random.rand(numIn)\n",
    "    return(net)"
   ]
  },
  {
   "cell_type": "code",
   "execution_count": 7,
   "metadata": {},
   "outputs": [],
   "source": [
    "def costFunc(net,nums):\n",
    "    return None"
   ]
  },
  {
   "cell_type": "code",
   "execution_count": 10,
   "metadata": {},
   "outputs": [],
   "source": [
    "trainData = getData(TRAIN_DATA_LOC)"
   ]
  },
  {
   "cell_type": "code",
   "execution_count": 35,
   "metadata": {},
   "outputs": [
    {
     "ename": "ValueError",
     "evalue": "The NumArray parameter is the wrong value. Try again with either a list or array",
     "output_type": "error",
     "traceback": [
      "\u001b[1;31m---------------------------------------------------------------------------\u001b[0m",
      "\u001b[1;31mValueError\u001b[0m                                Traceback (most recent call last)",
      "\u001b[1;32m<ipython-input-35-94eeb9ae6674>\u001b[0m in \u001b[0;36m<module>\u001b[1;34m\u001b[0m\n\u001b[1;32m----> 1\u001b[1;33m \u001b[0mshowData\u001b[0m\u001b[1;33m(\u001b[0m\u001b[1;34m\"\"\u001b[0m\u001b[1;33m,\u001b[0m\u001b[1;32mTrue\u001b[0m\u001b[1;33m)\u001b[0m\u001b[1;33m\u001b[0m\u001b[1;33m\u001b[0m\u001b[0m\n\u001b[0m",
      "\u001b[1;32m<ipython-input-30-5bf7fb865980>\u001b[0m in \u001b[0;36mshowData\u001b[1;34m(numArray, answerPresent)\u001b[0m\n\u001b[0;32m      3\u001b[0m \u001b[1;32mdef\u001b[0m \u001b[0mshowData\u001b[0m\u001b[1;33m(\u001b[0m\u001b[0mnumArray\u001b[0m\u001b[1;33m,\u001b[0m \u001b[0manswerPresent\u001b[0m\u001b[1;33m=\u001b[0m\u001b[1;32mTrue\u001b[0m\u001b[1;33m)\u001b[0m\u001b[1;33m:\u001b[0m\u001b[1;33m\u001b[0m\u001b[1;33m\u001b[0m\u001b[0m\n\u001b[0;32m      4\u001b[0m     \u001b[1;32mif\u001b[0m \u001b[0mtype\u001b[0m\u001b[1;33m(\u001b[0m\u001b[0mnumArray\u001b[0m\u001b[1;33m)\u001b[0m \u001b[1;33m!=\u001b[0m \u001b[0mlist\u001b[0m \u001b[1;32mand\u001b[0m \u001b[0mtype\u001b[0m\u001b[1;33m(\u001b[0m\u001b[0mnumArray\u001b[0m\u001b[1;33m)\u001b[0m \u001b[1;33m!=\u001b[0m \u001b[0mnp\u001b[0m\u001b[1;33m.\u001b[0m\u001b[0mndarray\u001b[0m\u001b[1;33m:\u001b[0m\u001b[1;33m\u001b[0m\u001b[1;33m\u001b[0m\u001b[0m\n\u001b[1;32m----> 5\u001b[1;33m         \u001b[1;32mraise\u001b[0m \u001b[0mValueError\u001b[0m\u001b[1;33m(\u001b[0m\u001b[1;34m\"The NumArray parameter is the wrong value. Try again with either a list or array\"\u001b[0m\u001b[1;33m)\u001b[0m\u001b[1;33m\u001b[0m\u001b[1;33m\u001b[0m\u001b[0m\n\u001b[0m\u001b[0;32m      6\u001b[0m     \u001b[1;32mif\u001b[0m \u001b[0mtype\u001b[0m\u001b[1;33m(\u001b[0m\u001b[0manswerPresent\u001b[0m\u001b[1;33m)\u001b[0m \u001b[1;33m!=\u001b[0m \u001b[0mbool\u001b[0m\u001b[1;33m:\u001b[0m\u001b[1;33m\u001b[0m\u001b[1;33m\u001b[0m\u001b[0m\n\u001b[0;32m      7\u001b[0m         \u001b[1;32mraise\u001b[0m \u001b[0mValueError\u001b[0m\u001b[1;33m(\u001b[0m\u001b[1;34m\"The AnswerPresent parameter is the wrong value. Try again with a boolean\"\u001b[0m\u001b[1;33m)\u001b[0m\u001b[1;33m\u001b[0m\u001b[1;33m\u001b[0m\u001b[0m\n",
      "\u001b[1;31mValueError\u001b[0m: The NumArray parameter is the wrong value. Try again with either a list or array"
     ]
    }
   ],
   "source": []
  },
  {
   "cell_type": "code",
   "execution_count": null,
   "metadata": {},
   "outputs": [],
   "source": []
  }
 ],
 "metadata": {
  "kernelspec": {
   "display_name": "Python 3",
   "language": "python",
   "name": "python3"
  },
  "language_info": {
   "codemirror_mode": {
    "name": "ipython",
    "version": 3
   },
   "file_extension": ".py",
   "mimetype": "text/x-python",
   "name": "python",
   "nbconvert_exporter": "python",
   "pygments_lexer": "ipython3",
   "version": "3.7.4"
  }
 },
 "nbformat": 4,
 "nbformat_minor": 2
}
