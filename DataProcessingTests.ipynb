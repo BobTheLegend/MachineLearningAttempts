{
 "cells": [
  {
   "cell_type": "code",
   "execution_count": 84,
   "metadata": {},
   "outputs": [],
   "source": [
    "import os\n",
    "import matplotlib.pyplot as plt\n",
    "import numpy as np\n",
    "import csv\n",
    "from matplotlib.animation import FuncAnimation\n",
    "from celluloid import Camera\n",
    "import copy"
   ]
  },
  {
   "cell_type": "code",
   "execution_count": 3,
   "metadata": {},
   "outputs": [],
   "source": [
    "NO_ANSWER = 9999\n",
    "TRAIN_DATA_LOC = \"C:\\\\Users\\\\17Z990\\\\Downloads\\\\Repos\\\\MachineLearningAttempts\\\\TrainingData\\\\mnist_train.csv\"\n",
    "TEST_DATA_LOC = \"C:\\\\Users\\\\17Z990\\\\Downloads\\\\Repos\\\\MachineLearningAttempts\\\\TrainingData\\\\mnist_test.csv\"\n",
    "LAYERS = [784,16,10]"
   ]
  },
  {
   "cell_type": "code",
   "execution_count": 4,
   "metadata": {},
   "outputs": [],
   "source": [
    "def sigmoid(z):\n",
    "    return 1.0/(1.0+np.exp(-z))"
   ]
  },
  {
   "cell_type": "code",
   "execution_count": 5,
   "metadata": {},
   "outputs": [],
   "source": [
    "def sigmoidPrime(x):\n",
    "    return sigmoid(x) * (l - sigmoid(x))"
   ]
  },
  {
   "cell_type": "code",
   "execution_count": 7,
   "metadata": {},
   "outputs": [],
   "source": [
    "def getData(dataLocation):\n",
    "    file = open(dataLocation,'r')\n",
    "    dataReader = csv.reader(file)\n",
    "    data = []\n",
    "    for row in dataReader:\n",
    "        data.append(row)\n",
    "    return data"
   ]
  },
  {
   "cell_type": "code",
   "execution_count": 8,
   "metadata": {},
   "outputs": [],
   "source": [
    "#Takes a list/array which is 785 or 784 ints long depending on whether an answer is present\n",
    "#Takes a boolean stating whether answers are present are at the beginning (assumes true)\n",
    "def showData(numArray, answerPresent=True):\n",
    "    if type(numArray) != list and type(numArray) != np.ndarray:\n",
    "        raise ValueError(\"The numArray parameter is the wrong value. Try again with either a list or array\")\n",
    "    if type(answerPresent) != bool:\n",
    "        raise ValueError(\"The answerPresent parameter is the wrong value. Try again with a boolean\")\n",
    "    if answerPresent:\n",
    "        if len(numArray) != 785:\n",
    "            raise IndexError(\"Your array is bigger than allowed. Try checking the answerPresent parameter\")\n",
    "    if not answerPresent:\n",
    "        if len(numArray) != 784:\n",
    "            raise IndexError(\"Your array is bigger than allowed. Try checking the answerPresent parameter\")\n",
    "    \n",
    "    if answerPresent:\n",
    "        ans = numArray[0]\n",
    "        imgArray = numArray[1:]\n",
    "    else:\n",
    "        imgArray = numArray\n",
    "        ans = NO_ANSWER\n",
    "        \n",
    "    for i in range(len(imgArray)):\n",
    "        imgArray[i] = float(imgArray[i])\n",
    "        showArray = np.array(imgArray).reshape(28,28)\n",
    "    plt.imshow(showArray,'gray')\n",
    "    plt.show()\n",
    "    return ans"
   ]
  },
  {
   "cell_type": "code",
   "execution_count": 9,
   "metadata": {},
   "outputs": [],
   "source": [
    "def genRandData():\n",
    "    randData = np.random.choice(256,784) #Makes a random array with a length of 784 with numbers between 0 and 255\n",
    "    randData = np.concatenate(([NO_ANSWER],randData))\n",
    "    return randData"
   ]
  },
  {
   "cell_type": "code",
   "execution_count": 10,
   "metadata": {},
   "outputs": [],
   "source": [
    "def costFunc(netAns,targetAns):\n",
    "    x = np.subtract(targetAns,netAns)\n",
    "    topArray = np.square(x)\n",
    "    cost = np.divide(topArray,2)\n",
    "    return cost"
   ]
  },
  {
   "cell_type": "code",
   "execution_count": null,
   "metadata": {},
   "outputs": [],
   "source": [
    "def dervCostFunc(netAns,targetAns):\n",
    "    return(netAns - targetAns)"
   ]
  },
  {
   "cell_type": "code",
   "execution_count": 93,
   "metadata": {},
   "outputs": [],
   "source": [
    "class NeuralNet(object):\n",
    "    def __init__(self,layers):\n",
    "        self.numLayers = len(layers)\n",
    "        #Creates 1 bias for every neuron in the layers after input\n",
    "        self.biases = [np.random.randn(b,1) for b in layers[1:]]\n",
    "        #Creates weights for every other weight connected to it\n",
    "        self.weights = [np.random.randn(y,x) for x,y in zip(layers[:-1],layers[1:])]\n",
    "    \n",
    "    def feedForward(self,a):\n",
    "        for w,b in zip(self.weights,self.biases):\n",
    "            a = sigmoid(np.dot(w,a) + b)\n",
    "        return a\n",
    "    \n",
    "    def backProp(self, x, y):\n",
    "        biasesDerv = [np.zeros(b.shape) for b in self.biases]\n",
    "        weightsDerv = [np.zeros(w.shape) for w in self.weights]\n",
    "        a = x\n",
    "        activations = [x]\n",
    "        zList = [] #List storing the z's \n",
    "        #Basically doing feedforward but noting the z's \n",
    "        #Could be combined with feedforward function in future\n",
    "        for w,b in zip(self.weights,self.biases):\n",
    "            z = np.dot(w,a) + b\n",
    "            zList.append(z)\n",
    "            a = sigmoid(z)\n",
    "            activations.append(a)\n",
    "            \n",
    "        #Calculating the error for the first layer\n",
    "        error = dervCostFunc(activations[-1],y) * sigmoidPrime(zList[-1])\n",
    "        biasesDerv[-1] = error \n",
    "        weightsDerv[-1] = np.dot(error,activations[-2].transpose())\n",
    "        \n",
    "        #Doing the backpropogation stuff\n",
    "        for i in range(2,self.numLayers):\n",
    "            z = zList[-i]\n",
    "            w = self.weights[-i + 1].transpose()\n",
    "            error = np.dot(w,error) * dervSigmoid(z)\n",
    "            biasesDerv[-i] = error\n",
    "            weightsDerv[-i] = np.dot(error,activations[-i - 1],transpose())\n",
    "        \n",
    "        return(biasesDerv,weightsDerv)\n",
    "    \n",
    "    #Runs the gradient descent algorithm for a small part of the data called an epoch\n",
    "    def runEpoch(self,epoch,learnRate):\n",
    "        deltaB = [np.zeros(b.shape) for b in self.biases]\n",
    "        deltaW = [np.zeros(w.shape) for w in self.weights]\n",
    "        for x,y in epoch:\n",
    "            singDeltB,singDeltW = self.backprop(x,y)\n",
    "            deltaB = [db + sdb for db,sdb in zip(deltaB,singDeltB)]\n",
    "            deltaW = [dw + sdw for dw,sdw in zip(deltaW,singDeltW)]\n",
    "        self.weights = [w - ((learnRate * len(epoch)) * dw) for w,dw in zip(self.weights,deltaW)]\n",
    "        self.biases = [b - ((learnRate * len(epoch)) * db) for b,db in zip(self.biases,deltaB)]\n",
    "        \n",
    "        \n",
    "    def testNetwork(self,testData):\n",
    "        return \"Wack\"\n",
    "        \n",
    "    \n",
    "    def stocGradientDescent(self,trainingData,epochs,miniBatchSize,testData = None):\n",
    "        print(\"Nothing to see here\")\n",
    "        "
   ]
  },
  {
   "cell_type": "code",
   "execution_count": 94,
   "metadata": {},
   "outputs": [],
   "source": [
    "trainData = getData(TRAIN_DATA_LOC)"
   ]
  },
  {
   "cell_type": "code",
   "execution_count": 60,
   "metadata": {},
   "outputs": [],
   "source": [
    "net = NeuralNet(LAYERS)"
   ]
  },
  {
   "cell_type": "code",
   "execution_count": 124,
   "metadata": {},
   "outputs": [
    {
     "data": {
      "text/plain": [
       "array([[[0., 0., 0.],\n",
       "        [0., 0., 0.],\n",
       "        [0., 0., 0.]],\n",
       "\n",
       "       [[0., 0., 0.],\n",
       "        [0., 0., 0.],\n",
       "        [0., 0., 0.]],\n",
       "\n",
       "       [[0., 0., 0.],\n",
       "        [0., 0., 0.],\n",
       "        [0., 0., 0.]],\n",
       "\n",
       "       [[0., 0., 0.],\n",
       "        [0., 0., 0.],\n",
       "        [0., 0., 0.]]])"
      ]
     },
     "execution_count": 124,
     "metadata": {},
     "output_type": "execute_result"
    }
   ],
   "source": [
    "np.zeros([3,3,4]).transpose()"
   ]
  },
  {
   "cell_type": "code",
   "execution_count": null,
   "metadata": {},
   "outputs": [],
   "source": []
  }
 ],
 "metadata": {
  "kernelspec": {
   "display_name": "Python 3",
   "language": "python",
   "name": "python3"
  },
  "language_info": {
   "codemirror_mode": {
    "name": "ipython",
    "version": 3
   },
   "file_extension": ".py",
   "mimetype": "text/x-python",
   "name": "python",
   "nbconvert_exporter": "python",
   "pygments_lexer": "ipython3",
   "version": "3.7.4"
  }
 },
 "nbformat": 4,
 "nbformat_minor": 2
}
